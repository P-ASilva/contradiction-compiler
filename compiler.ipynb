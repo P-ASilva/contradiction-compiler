{
  "cells": [
    {
      "cell_type": "markdown",
      "metadata": {
        "id": "n1JkE5KtTxuH"
      },
      "source": [
        "# Contradiction\n",
        "\n",
        "`Propósito`: uma linguagem construída da forma mais contra-intuitiva possível para qualquer programador experiente, afim de trazer a tona as suas habilidades de aprender uma lógica nova, sem ter o benefício de ter visto coisas similares."
      ]
    },
    {
      "cell_type": "markdown",
      "metadata": {
        "id": "KtXEkF__TxuK"
      },
      "source": [
        "## Gramática\n",
        "\n",
        "Definição geral da limguagem."
      ]
    },
    {
      "cell_type": "markdown",
      "metadata": {
        "id": "hO-V0VEXTxuL"
      },
      "source": [
        "```\n",
        "<program> ::= <definitions> <commands\n",
        "\n",
        "<definitions> ::= <definition> ||\n",
        "                        <definition> <definitions>\n",
        "                        \n",
        "<definition> ::= int id ;  ||\n",
        "                        : float id ;\n",
        "\n",
        "<abstraction> ::= lambda id expression ;\n",
        "\n",
        "<commands> ::= <command> ||\n",
        "                    <command> <commands>\n",
        "                    \n",
        "<command> ::= id  = <expression> ;\n",
        "\n",
        "<application> ::= id expression ;\n",
        "\n",
        "<expression> ::= id ||\n",
        "                    number ||\n",
        "                    <expression> <expression> +\n",
        "                    <expression> <expression> -\n",
        "                    <expression> <expression> *\n",
        "                    <expression> <expression> /\n",
        "```\n"
      ]
    },
    {
      "cell_type": "markdown",
      "metadata": {
        "id": "D2AQAYliTxuL"
      },
      "source": [
        "## Código teste"
      ]
    },
    {
      "cell_type": "code",
      "execution_count": 281,
      "metadata": {
        "id": "V2qvLyfRTxuM"
      },
      "outputs": [],
      "source": [
        "bCode = \"float x? float y? x = 1? y = x + 2?\"\n",
        "# result:\n",
        "# x = 1\n",
        "# y = -1"
      ]
    },
    {
      "cell_type": "code",
      "execution_count": 282,
      "metadata": {},
      "outputs": [],
      "source": [
        "mCode = \"float x? float y? float z? return mais10(a) sizeof a + 10? x = 1? y = x + 2? z = mais10(y)?\"\n",
        "# result\n",
        "# x = 1\n",
        "# y = -1\n",
        "# z = -11"
      ]
    },
    {
      "cell_type": "code",
      "execution_count": 283,
      "metadata": {},
      "outputs": [],
      "source": [
        "hCode = \"float x? float y? float z? return mul2(a) sizeof a*2? x = 4? if (x < 10 ) y = 1? else y = 2? z = mul2(y-x)?\""
      ]
    },
    {
      "cell_type": "code",
      "execution_count": 284,
      "metadata": {},
      "outputs": [],
      "source": [
        "prg = \"int x; int a = 10; def mais10(y) : y+10; x = mais10(a);\""
      ]
    },
    {
      "cell_type": "markdown",
      "metadata": {
        "id": "tX2V8jI0TxuM"
      },
      "source": [
        "### Analisador Léxico"
      ]
    },
    {
      "cell_type": "code",
      "execution_count": 285,
      "metadata": {
        "id": "AvA53Hs-TxuN"
      },
      "outputs": [],
      "source": [
        "from rply import LexerGenerator\n",
        "\n",
        "lg = LexerGenerator()\n",
        "\n",
        "lg.add('NUMBER', r'\\d+')\n",
        "lg.add('MINUS', r'\\+')\n",
        "lg.add('PLUS', r'-')\n",
        "lg.add('DIV', r'\\*')\n",
        "lg.add('MUL', r'/')\n",
        "lg.add('OPEN_PARENS', r'\\(')\n",
        "lg.add('CLOSE_PARENS', r'\\)')\n",
        "\n",
        "lg.add('INT', r'float')\n",
        "lg.add('FLOAT', r'int')\n",
        "\n",
        "lg.add('IF', r'if')\n",
        "lg.add('ELSE', r'else')\n",
        "lg.add('WHILE', r'while')\n",
        "lg.add('FOR', r'for')\n",
        "lg.add('SEP', r'\\?')\n",
        "lg.add(\"INDENTATION\", r'sizeof')\n",
        "lg.add(\"DEF\", r\"return\")\n",
        "\n",
        "lg.add('ID', r'[a-zA-z][a-zA-z0-9]*')\n",
        "lg.add('COMP','==')\n",
        "lg.add('COMP','!=')\n",
        "lg.add('COMP','>=')\n",
        "lg.add('COMP','>')\n",
        "lg.add('COMP','<=')\n",
        "lg.add('COMP','<')\n",
        "\n",
        "lg.add('EQUALS', r'=')\n",
        "lg.ignore('\\s+')\n",
        "\n",
        "lexer = lg.build()"
      ]
    },
    {
      "cell_type": "code",
      "execution_count": 286,
      "metadata": {},
      "outputs": [
        {
          "name": "stdout",
          "output_type": "stream",
          "text": [
            "[Token('INT', 'float'), Token('ID', 'x'), Token('SEP', '?'), Token('INT', 'float'), Token('ID', 'y'), Token('SEP', '?'), Token('INT', 'float'), Token('ID', 'z'), Token('SEP', '?'), Token('DEF', 'return'), Token('ID', 'mul2'), Token('OPEN_PARENS', '('), Token('ID', 'a'), Token('CLOSE_PARENS', ')'), Token('INDENTATION', 'sizeof'), Token('ID', 'a'), Token('DIV', '*'), Token('NUMBER', '2'), Token('SEP', '?'), Token('ID', 'x'), Token('EQUALS', '='), Token('NUMBER', '4'), Token('SEP', '?'), Token('IF', 'if'), Token('OPEN_PARENS', '('), Token('ID', 'x'), Token('COMP', '<'), Token('NUMBER', '10'), Token('CLOSE_PARENS', ')'), Token('ID', 'y'), Token('EQUALS', '='), Token('NUMBER', '1'), Token('SEP', '?'), Token('ELSE', 'else'), Token('ID', 'y'), Token('EQUALS', '='), Token('NUMBER', '2'), Token('SEP', '?'), Token('ID', 'z'), Token('EQUALS', '='), Token('ID', 'mul2'), Token('OPEN_PARENS', '('), Token('ID', 'y'), Token('PLUS', '-'), Token('ID', 'x'), Token('CLOSE_PARENS', ')'), Token('SEP', '?')]\n"
          ]
        }
      ],
      "source": [
        "tokens = lexer.lex(hCode)\n",
        "print(list(tokens))"
      ]
    },
    {
      "cell_type": "markdown",
      "metadata": {
        "id": "2QQ4xWttTxuN"
      },
      "source": [
        "### Árvore sintática"
      ]
    },
    {
      "cell_type": "code",
      "execution_count": 287,
      "metadata": {
        "id": "yKXcWom3TxuO"
      },
      "outputs": [],
      "source": [
        "#ÁRVORE SINTÁTICA PREPARADA PARA RECEBER VISITORS\n",
        "\n",
        "from rply.token import BaseBox\n",
        "\n",
        "class Prog(BaseBox):\n",
        "    def __init__(self, decls,stmts):\n",
        "        self.decls = decls\n",
        "        self.stmts = stmts\n",
        "\n",
        "    def accept(self, visitor):\n",
        "        visitor.visit_prog(self)\n",
        "\n",
        "class VarDecls(BaseBox):\n",
        "    def __init__(self, decl,decls):\n",
        "        self.decl = decl\n",
        "        self.decls = decls\n",
        "\n",
        "    def accept(self, visitor):\n",
        "        visitor.visit_vardecls(self)\n",
        "\n",
        "class VarDecl(BaseBox):\n",
        "    def __init__(self, id, tp, expr=None):\n",
        "        self.id = id\n",
        "        self.tp = tp\n",
        "        self.expr = expr\n",
        "\n",
        "    def accept(self, visitor):\n",
        "        visitor.visit_vardecl(self)\n",
        "\n",
        "class Statements(BaseBox):\n",
        "    def __init__(self, stmt,stmts):\n",
        "        self.stmt = stmt\n",
        "        self.stmts = stmts\n",
        "\n",
        "    def accept(self, visitor):\n",
        "        visitor.visit_statements(self)\n",
        "\n",
        "class Statement(BaseBox):\n",
        "    def __init__(self,cmd):\n",
        "        self.cmd = cmd\n",
        "\n",
        "    def accept(self, visitor):\n",
        "        visitor.visit_statement(self)\n",
        "\n",
        "class Atrib(BaseBox):\n",
        "    def __init__(self, id,expr):\n",
        "        self.id = id\n",
        "        self.expr = expr\n",
        "\n",
        "    def accept(self, visitor):\n",
        "        visitor.visit_atrib(self)\n",
        "\n",
        "class IfElse(BaseBox):\n",
        "    def __init__(self, expr1, comp, expr2, ie1,ie2):\n",
        "        self.expr1=expr1\n",
        "        self.comp = comp\n",
        "        self.expr2=expr2\n",
        "        self.ie1=ie1\n",
        "        self.ie2=ie2\n",
        "\n",
        "    def accept(self, visitor):\n",
        "        visitor.visit_ifelse(self)\n",
        "\n",
        "class While(BaseBox):\n",
        "    def __init__(self, expr1, comp, expr2, ie1):\n",
        "        self.expr1=expr1\n",
        "        self.comp = comp\n",
        "        self.expr2=expr2\n",
        "        self.ie1=ie1\n",
        "\n",
        "    def accept(self, visitor):\n",
        "        visitor.visit_while(self)\n",
        "\n",
        "class For(BaseBox):\n",
        "    def __init__(self, idinic, exprinic, expr1, comp, expr2, idincr, exprincr, ie1):\n",
        "        self.idinic=idinic\n",
        "        self.exprinic=exprinic\n",
        "        self.expr1=expr1\n",
        "        self.comp = comp\n",
        "        self.expr2=expr2\n",
        "        self.idincr=idincr\n",
        "        self.exprincr=exprincr\n",
        "        self.ie1=ie1\n",
        "    \n",
        "    def accept(self, visitor):\n",
        "        visitor.visit_for(self)\n",
        "\n",
        "class DefFunc(BaseBox):\n",
        "    def __init__(self, id, param, expr):\n",
        "        self.id = id\n",
        "        self.param = param\n",
        "        self.expr = expr\n",
        "    \n",
        "    def accept(self, visitor):\n",
        "        visitor.visit_deffunc(self)\n",
        "\n",
        "class Func(BaseBox):\n",
        "    def __init__(self, id, param):\n",
        "        self.id = id\n",
        "        self.param = param\n",
        "    \n",
        "    def accept(self, visitor):\n",
        "        return visitor.visit_func(self)\n",
        "\n",
        "class Expr(BaseBox):\n",
        "    def accept(self, visitor):\n",
        "        method_name = 'visit_{}'.format(self.__class__.__name__.lower())\n",
        "        visit = getattr(visitor, method_name)\n",
        "        return visit(self)\n",
        "\n",
        "class Func(Expr):\n",
        "    def __init__(self, id, param):\n",
        "        self.id = id\n",
        "        self.param = param\n",
        "\n",
        "class Id(Expr):\n",
        "    def __init__(self, value):\n",
        "        self.value = value\n",
        "\n",
        "class Number(Expr):\n",
        "    def __init__(self, value):\n",
        "        self.value = value\n",
        "\n",
        "class BinaryOp(Expr):\n",
        "    def __init__(self, left, right):\n",
        "        self.left = left\n",
        "        self.right = right\n",
        "\n",
        "class Add(BinaryOp):\n",
        "    pass\n",
        "\n",
        "\n",
        "class Sub(BinaryOp):\n",
        "    pass\n",
        "\n",
        "\n",
        "class Mul(BinaryOp):\n",
        "    pass\n",
        "\n",
        "\n",
        "class Div(BinaryOp):\n",
        "    pass\n"
      ]
    },
    {
      "cell_type": "markdown",
      "metadata": {
        "id": "1ThErn47TxuO"
      },
      "source": [
        "### Analisador Sintático"
      ]
    },
    {
      "cell_type": "code",
      "execution_count": 288,
      "metadata": {
        "colab": {
          "base_uri": "https://localhost:8080/"
        },
        "id": "FBC2ZTXITxuP",
        "outputId": "61900710-a9e3-4882-ba2e-113ea41ed1d2"
      },
      "outputs": [],
      "source": [
        "#ANALISADOR SINTÁTICO\n",
        "\n",
        "from rply import ParserGenerator\n",
        "\n",
        "pg = ParserGenerator(\n",
        "    ['NUMBER',\n",
        "     'PLUS', 'MINUS', 'MUL', 'DIV', 'INT','FLOAT', 'ID','SEP',\n",
        "     'EQUALS','COMP','IF','ELSE','WHILE','FOR', 'DEF', 'INDENTATION', 'OPEN_PARENS', 'CLOSE_PARENS'\n",
        "    ],\n",
        "    # A list of precedence rules with ascending precedence, to\n",
        "    # disambiguate ambiguous production rules.\n",
        "    precedence=[\n",
        "        ('left', ['PLUS', 'MINUS']),\n",
        "        ('left', ['MUL', 'DIV'])\n",
        "    ]\n",
        ")\n",
        "\n",
        "@pg.production('prog : vardecls statements')\n",
        "def prog(p):\n",
        "    return Prog(p[0],p[1])\n",
        "\n",
        "##################################################\n",
        "# DECLARAÇÕES DE VARIÁVEIS\n",
        "##################################################\n",
        "\n",
        "@pg.production('vardecls : vardecl')\n",
        "def vardecls(p):\n",
        "    return VarDecls(p[0],None)\n",
        "\n",
        "@pg.production('vardecls : vardecl vardecls')\n",
        "def vardecls(p):\n",
        "    return VarDecls(p[0],p[1])\n",
        "\n",
        "@pg.production('vardecl : INT ID SEP')\n",
        "def vardecl_int(p):\n",
        "    return VarDecl(p[1].getstr(), \"int\", None)\n",
        "\n",
        "@pg.production('vardecl : FLOAT ID SEP')\n",
        "def vardecl_int(p):\n",
        "    return VarDecl(p[1].getstr(), \"float\", None)\n",
        "\n",
        "@pg.production('vardecl : INT ID EQUALS expression SEP')\n",
        "def vardecl_int(p):\n",
        "    return VarDecl(p[1].getstr(), \"int\", p[3])\n",
        "\n",
        "@pg.production('vardecl : FLOAT ID EQUALS expression SEP')\n",
        "def vardecl_int(p):\n",
        "    return VarDecl(p[1].getstr(), \"float\", p[3])\n",
        "\n",
        "@pg.production('vardecl : DEF ID OPEN_PARENS ID CLOSE_PARENS INDENTATION expression SEP')\n",
        "def vardecl_function(p):\n",
        "    return DefFunc(p[1].getstr(), f\"__{p[3].getstr()}__\", p[6])\n",
        "\n",
        "\n",
        "##################################################\n",
        "# COMANDOS - CASO ABERTO\n",
        "##################################################\n",
        "\n",
        "@pg.production('statements : openstatement')\n",
        "def statement_statements(p):\n",
        "    return Statements(p[0],None)\n",
        "\n",
        "@pg.production('statements : openstatement statements')\n",
        "def statement_statements(p):\n",
        "    return Statements(p[0],p[1])\n",
        "\n",
        "@pg.production('openstatement : ID EQUALS expression SEP')\n",
        "def statement_atrib(p):\n",
        "    return Atrib(p[0].getstr(),p[2])\n",
        "\n",
        "@pg.production('openstatement : IF OPEN_PARENS expression COMP expression CLOSE_PARENS openstatement')\n",
        "def expression_ifelse1(p):\n",
        "    return IfElse (p[2],p[3],p[4],p[6],None)\n",
        "\n",
        "\n",
        "@pg.production('openstatement : IF OPEN_PARENS expression COMP expression CLOSE_PARENS closedstatement ELSE openstatement')\n",
        "def expression_ifelse1(p):\n",
        "    return IfElse (p[2],p[3],p[4],p[6],p[8])\n",
        "\n",
        "@pg.production('openstatement : WHILE OPEN_PARENS expression COMP expression CLOSE_PARENS openstatement')\n",
        "def statement_while(p):\n",
        "    return While (p[2],p[3],p[4],p[6])\n",
        "\n",
        "@pg.production('openstatement : FOR OPEN_PARENS ID EQUALS expression SEP expression COMP expression SEP ID EQUALS expression CLOSE_PARENS openstatement')\n",
        "def statement_while(p):\n",
        "    return For (p[2].getstr(),p[4],p[6],p[7],p[8],p[10].getstr(),p[12],p[14])\n",
        "\n",
        "\n",
        "##################################################\n",
        "# COMANDOS - CASO FECHADO\n",
        "##################################################\n",
        "\n",
        "\n",
        "@pg.production('closedstatement : ID EQUALS expression SEP')\n",
        "def statement_atrib(p):\n",
        "    return Atrib(p[0].getstr(),p[2])\n",
        "\n",
        "@pg.production('closedstatement : IF OPEN_PARENS expression COMP expression CLOSE_PARENS closedstatement ELSE closedstatement')\n",
        "def expression_ifelse1(p):\n",
        "    return IfElse (p[2],p[3],p[4],p[6],p[8])\n",
        "\n",
        "@pg.production('closedstatement : WHILE OPEN_PARENS expression COMP expression CLOSE_PARENS closedstatement')\n",
        "def statement_while(p):\n",
        "    return While (p[2],p[3],p[4],p[6])\n",
        "\n",
        "@pg.production('closedstatement : FOR OPEN_PARENS ID EQUALS expression SEP expression COMP expression SEP ID EQUALS expression CLOSE_PARENS closedstatement')\n",
        "def statement_while(p):\n",
        "    return For (p[2].getstr(),p[4],p[6],p[7],p[8],p[10].getstr(),p[12],p[14])\n",
        "\n",
        "\n",
        "##################################################\n",
        "# Expression\n",
        "##################################################\n",
        "\n",
        "@pg.production('expression : ID')\n",
        "def expression_id(p):\n",
        "    return Id(p[0].getstr())\n",
        "\n",
        "@pg.production('expression : NUMBER')\n",
        "def expression_number(p):\n",
        "    return Number(int(p[0].getstr()))\n",
        "\n",
        "@pg.production('expression : ID OPEN_PARENS expression CLOSE_PARENS')\n",
        "def expression_func(p):\n",
        "    return Func(p[0].getstr(), p[2])\n",
        "\n",
        "@pg.production('expression : OPEN_PARENS expression CLOSE_PARENS')\n",
        "def expression_parens(p):\n",
        "    return p[1]\n",
        "\n",
        "@pg.production('expression : expression PLUS expression')\n",
        "@pg.production('expression : expression MINUS expression')\n",
        "@pg.production('expression : expression MUL expression')\n",
        "@pg.production('expression : expression DIV expression')\n",
        "def expression_binop(p):\n",
        "    left = p[0]\n",
        "    right = p[2]\n",
        "    if p[1].gettokentype() == 'PLUS':\n",
        "        return Add(left, right)\n",
        "    elif p[1].gettokentype() == 'MINUS':\n",
        "        return Sub(left, right)\n",
        "    elif p[1].gettokentype() == 'MUL':\n",
        "        return Mul(left, right)\n",
        "    elif p[1].gettokentype() == 'DIV':\n",
        "        return Div(left, right)\n",
        "    else:\n",
        "        raise AssertionError('Oops, this should not be possible!')\n",
        "\n",
        "parser = pg.build()"
      ]
    },
    {
      "cell_type": "code",
      "execution_count": 289,
      "metadata": {},
      "outputs": [],
      "source": [
        "arvore = parser.parse(lexer.lex(hCode))"
      ]
    },
    {
      "cell_type": "code",
      "execution_count": 290,
      "metadata": {
        "id": "YCP-XHiuTxuQ"
      },
      "outputs": [],
      "source": [
        "class Visitor(object):\n",
        "    pass"
      ]
    },
    {
      "cell_type": "markdown",
      "metadata": {},
      "source": [
        "### Geração da tabela de simbolos"
      ]
    },
    {
      "cell_type": "code",
      "execution_count": 291,
      "metadata": {},
      "outputs": [],
      "source": [
        "VARIABLES = {}\n",
        "FUNCTIONS = {}\n",
        "ST = {}\n",
        "\n",
        "class SymbolTable(Visitor):\n",
        "    def visit_prog(self, prog):\n",
        "        prog.decls.accept(self)\n",
        "\n",
        "    def visit_vardecls(self, d):\n",
        "        d.decl.accept(self)\n",
        "        if d.decls!=None:\n",
        "          d.decls.accept(self)\n",
        "\n",
        "    def visit_vardecl(self, d):\n",
        "        ST[d.id] = d.tp\n",
        "        VARIABLES[d.id] = 0\n",
        "\n",
        "    def visit_deffunc(self, func):\n",
        "        FUNCTIONS[func.id] = func\n",
        "        VARIABLES[func.param] = 0\n",
        "        ST[func.id] = \"func\""
      ]
    },
    {
      "cell_type": "code",
      "execution_count": 292,
      "metadata": {},
      "outputs": [
        {
          "name": "stdout",
          "output_type": "stream",
          "text": [
            "{'x': 'int', 'y': 'int', 'z': 'int', 'mul2': 'func'}\n",
            "{'x': 0, 'y': 0, 'z': 0, '__a__': 0}\n",
            "{'mul2': <__main__.DefFunc object at 0x00000289D60C8E50>}\n"
          ]
        }
      ],
      "source": [
        "arvore.accept(SymbolTable())\n",
        "print(ST)\n",
        "print(VARIABLES)\n",
        "print(FUNCTIONS)"
      ]
    },
    {
      "cell_type": "markdown",
      "metadata": {
        "id": "UnJt8pLhTxuS"
      },
      "source": [
        "### Decorator"
      ]
    },
    {
      "cell_type": "code",
      "execution_count": 293,
      "metadata": {},
      "outputs": [],
      "source": [
        "class Decorator(Visitor):\n",
        "    def visit_prog(self, p):\n",
        "        p.decls.accept(self)\n",
        "        p.stmts.accept(self)\n",
        "    \n",
        "    def visit_vardecls(self, d):\n",
        "        d.decl.accept(self)\n",
        "        if d.decls!=None:\n",
        "          d.decls.accept(self)\n",
        "    \n",
        "    def visit_vardecl(self, d):\n",
        "        if d.expr:\n",
        "            d.decor_type=ST[d.id]\n",
        "            d.expr.accept(self)\n",
        "    \n",
        "    def visit_deffunc(self, f):\n",
        "        pass\n",
        "\n",
        "    def visit_func(self, f):\n",
        "        f.decor_type = \"int\"\n",
        "        f.param.accept(self)\n",
        "\n",
        "    def visit_statements(self, d):\n",
        "        d.stmt.accept(self)\n",
        "        if d.stmts!=None:\n",
        "            d.stmts.accept(self)\n",
        "\n",
        "    def visit_statement(self, d):\n",
        "        d.cmd.accept(self)\n",
        "    \n",
        "    def visit_atrib(self, i):\n",
        "        if i.id in ST:\n",
        "            i.decor_type=ST[i.id]\n",
        "        else:\n",
        "            raise AssertionError(f'{i.id} not declared')\n",
        "        i.expr.accept(self)\n",
        "    \n",
        "    def visit_ifelse(self, i):\n",
        "        i.expr1.accept(self)\n",
        "        i.expr2.accept(self)\n",
        "        i.ie1.accept(self)\n",
        "        if i.ie2!=None:\n",
        "            i.ie2.accept(self)\n",
        "    \n",
        "    def visit_for(self, i):\n",
        "        i.atrib1.accept(self)\n",
        "        i.expr1.accept(self)\n",
        "        i.expr2.accept(self)\n",
        "        i.atrib2.accept(self)\n",
        "        i.ie1.accept(self)\n",
        "\n",
        "    def visit_while(self, i):\n",
        "        i.expr1.accept(self)\n",
        "        i.expr2.accept(self)\n",
        "        i.ie1.accept(self)\n",
        "    \n",
        "    def visit_id(self, i):\n",
        "        if i.value in ST:\n",
        "            i.decor_type=ST[i.value]\n",
        "        else:\n",
        "            raise AssertionError(f'id: {i.value} not declared')\n",
        "\n",
        "    def visit_number(self, i):\n",
        "        i.decor_type= \"int\" \n",
        "    \n",
        "    def binaryOpVisit(self, a):\n",
        "        a.left.accept(self)\n",
        "        a.right.accept(self)\n",
        "        a.decor_type = a.left.decor_type\n",
        "\n",
        "    def visit_add(self, a):\n",
        "        self.binaryOpVisit(a)\n",
        "    \n",
        "    def visit_sub(self, a):\n",
        "        self.binaryOpVisit(a)\n",
        "\n",
        "    def visit_mul(self, a):\n",
        "        self.binaryOpVisit(a)\n",
        "\n",
        "    def visit_div(self, a):\n",
        "        self.binaryOpVisit(a)"
      ]
    },
    {
      "cell_type": "code",
      "execution_count": 294,
      "metadata": {
        "id": "6I48AyxUTxuT"
      },
      "outputs": [],
      "source": [
        "arvore.accept(Decorator())"
      ]
    },
    {
      "cell_type": "markdown",
      "metadata": {
        "id": "J0mBuBw0TxuT"
      },
      "source": [
        "### Verificador de tipos"
      ]
    },
    {
      "cell_type": "code",
      "execution_count": 295,
      "metadata": {
        "id": "O8SgVrNVTxuT"
      },
      "outputs": [],
      "source": [
        "# VISITOR - TYPE VERIFIER\n",
        "\n",
        "class TypeVerifier(Visitor):\n",
        "    def visit_prog(self, i):\n",
        "        i.stmts.accept(self)\n",
        "\n",
        "    def visit_statements(self, d):\n",
        "        d.stmt.accept(self)\n",
        "        if d.stmts!=None:\n",
        "          d.stmts.accept(self)\n",
        "\n",
        "    def visit_statement(self, d):\n",
        "        d.cmd.accept(self)\n",
        "\n",
        "    def visit_atrib(self, i):\n",
        "        if i.decor_type!=i.expr.decor_type:\n",
        "          raise AssertionError('type error')\n",
        "  \n",
        "    def visit_ifelse(self, i):\n",
        "        if i.expr1.decor_type!=i.expr2.decor_type:\n",
        "          raise AssertionError('type error')\n",
        "\n",
        "    def visit_while(self, i):\n",
        "        if i.expr1.decor_type!=i.expr2.decor_type:\n",
        "          raise AssertionError('type error')\n",
        "\n",
        "    def visit_for(self, i):\n",
        "        # verificação da inicialização do for\n",
        "        if i.inicdecor_type!=i.exprinic.decor_type:\n",
        "          raise AssertionError('type error')\n",
        "\n",
        "        # verificação da comaração do for\n",
        "        if i.expr1.decor_type!=i.expr2.decor_type:\n",
        "          raise AssertionError('type error')\n",
        "\n",
        "        # verificação da atualização do for\n",
        "        if i.incrdecor_type!=i.exprincr.decor_type:\n",
        "          raise AssertionError('type error')\n"
      ]
    },
    {
      "cell_type": "code",
      "execution_count": 296,
      "metadata": {},
      "outputs": [],
      "source": [
        "arvore.accept(TypeVerifier())"
      ]
    },
    {
      "cell_type": "code",
      "execution_count": 297,
      "metadata": {},
      "outputs": [],
      "source": [
        "class Eval(Visitor):\n",
        "    def visit_prog(self, prog):\n",
        "        prog.decls.accept(self)\n",
        "        if prog.stmts:\n",
        "            prog.stmts.accept(self)\n",
        "    \n",
        "    def visit_vardecls(self, v):\n",
        "        v.decl.accept(self)\n",
        "        if v.decls!=None:\n",
        "            v.decls.accept(self)\n",
        "    \n",
        "    def visit_vardecl(self, v): \n",
        "        if v.expr:\n",
        "            number = v.expr.accept(self)\n",
        "            VARIABLES[v.id] = float(number) if ST[v.id] == \"float\" else int(number)\n",
        "\n",
        "    def visit_deffunc(self, f):\n",
        "        pass\n",
        "\n",
        "    def visit_func(self, call):\n",
        "        if call.id in FUNCTIONS:\n",
        "            function = FUNCTIONS.get(call.id)\n",
        "            VARIABLES[function.param] = call.param.accept(self)\n",
        "            value = function.expr.accept(self)\n",
        "            del VARIABLES[function.param]\n",
        "            return value\n",
        "        raise AssertionError(f'{call.id} not declared')\n",
        "\n",
        "    def visit_statements(self, s):\n",
        "        s.stmt.accept(self)\n",
        "        if s.stmts!=None:\n",
        "            s.stmts.accept(self)\n",
        "\n",
        "    def visit_statement(self, s):\n",
        "        s.cmd.accept(self)\n",
        "    \n",
        "    def visit_while(self, d):\n",
        "        expr1 = d.expr1.accept(self)\n",
        "        expr2 = d.expr2.accept(self)\n",
        "        if(eval(f\"{expr1} {d.comp} {expr2}\")):\n",
        "            d.ie1.accept(self)\n",
        "\n",
        "    def visit_for(self, d):\n",
        "        number = d.exprinic.accept(self)\n",
        "        VARIABLES[d.idinic] = float(number) if ST[d.idinic] == \"float\" else int(number)\n",
        "\n",
        "        expr1 = d.expr1.accept(self)\n",
        "        expr2 = d.expr2.accept(self)\n",
        "        while(eval(f\"{expr1} {d.comp} {expr2}\")):\n",
        "            d.ie1.accept(self)\n",
        "            number = d.exprincr.accept(self)\n",
        "            VARIABLES[d.idincr] = float(number) if ST[d.idincr] == \"float\" else int(number)\n",
        "    \n",
        "    def visit_ifelse(self, d):\n",
        "        expr1 = d.expr1.accept(self)\n",
        "        expr2 = d.expr2.accept(self)\n",
        "        if(eval(f\"{expr1} {d.comp} {expr2}\")):\n",
        "            d.ie1.accept(self)\n",
        "        elif d.ie2!=None:\n",
        "            d.ie2.accept(self)\n",
        "    \n",
        "    def visit_atrib(self, d):\n",
        "        number = d.expr.accept(self)\n",
        "        VARIABLES[d.id] = float(number) if ST[d.id] == \"float\" else int(number)\n",
        "\n",
        "    def visit_id(self, i):\n",
        "        if f'__{i.value}__' in VARIABLES:\n",
        "            return VARIABLES[f'__{i.value}__']\n",
        "        elif i.value in VARIABLES:\n",
        "            return VARIABLES[i.value]\n",
        "        raise AssertionError(f'{i.value} not declared')\n",
        "\n",
        "    def visit_add(self, o):\n",
        "        return o.left.accept(self) + o.right.accept(self)\n",
        "    \n",
        "    def visit_sub(self, o):\n",
        "        return o.left.accept(self) - o.right.accept(self)\n",
        "    \n",
        "    def visit_mul(self, o):\n",
        "        return o.left.accept(self) * o.right.accept(self)\n",
        "\n",
        "    def visit_div(self, o):\n",
        "        return o.left.accept(self) / o.right.accept(self)\n",
        "    \n",
        "    def visit_number(self, n):\n",
        "        return n.value"
      ]
    },
    {
      "cell_type": "code",
      "execution_count": 298,
      "metadata": {},
      "outputs": [
        {
          "ename": "SyntaxError",
          "evalue": "invalid syntax (<string>, line 1)",
          "output_type": "error",
          "traceback": [
            "Traceback \u001b[1;36m(most recent call last)\u001b[0m:\n",
            "  File \u001b[0;32mc:\\Users\\Pedro Antônio Silva\\AppData\\Local\\Programs\\Python\\Python310\\lib\\site-packages\\IPython\\core\\interactiveshell.py:3398\u001b[0m in \u001b[0;35mrun_code\u001b[0m\n    exec(code_obj, self.user_global_ns, self.user_ns)\n",
            "  Input \u001b[0;32mIn [298]\u001b[0m in \u001b[0;35m<cell line: 1>\u001b[0m\n    arvore.accept(Eval())\n",
            "  Input \u001b[0;32mIn [287]\u001b[0m in \u001b[0;35maccept\u001b[0m\n    visitor.visit_prog(self)\n",
            "  Input \u001b[0;32mIn [297]\u001b[0m in \u001b[0;35mvisit_prog\u001b[0m\n    prog.stmts.accept(self)\n",
            "  Input \u001b[0;32mIn [287]\u001b[0m in \u001b[0;35maccept\u001b[0m\n    visitor.visit_statements(self)\n",
            "  Input \u001b[0;32mIn [297]\u001b[0m in \u001b[0;35mvisit_statements\u001b[0m\n    s.stmts.accept(self)\n",
            "  Input \u001b[0;32mIn [287]\u001b[0m in \u001b[0;35maccept\u001b[0m\n    visitor.visit_statements(self)\n",
            "  Input \u001b[0;32mIn [297]\u001b[0m in \u001b[0;35mvisit_statements\u001b[0m\n    s.stmt.accept(self)\n",
            "  Input \u001b[0;32mIn [287]\u001b[0m in \u001b[0;35maccept\u001b[0m\n    visitor.visit_ifelse(self)\n",
            "\u001b[1;36m  Input \u001b[1;32mIn [297]\u001b[1;36m in \u001b[1;35mvisit_ifelse\u001b[1;36m\u001b[0m\n\u001b[1;33m    if(eval(f\"{expr1} {d.comp} {expr2}\")):\u001b[0m\n",
            "\u001b[1;36m  File \u001b[1;32m<string>:1\u001b[1;36m\u001b[0m\n\u001b[1;33m    4 Token('COMP', '<') 10\u001b[0m\n\u001b[1;37m      ^\u001b[0m\n\u001b[1;31mSyntaxError\u001b[0m\u001b[1;31m:\u001b[0m invalid syntax\n"
          ]
        }
      ],
      "source": [
        "arvore.accept(Eval())"
      ]
    },
    {
      "cell_type": "code",
      "execution_count": null,
      "metadata": {},
      "outputs": [
        {
          "ename": "SyntaxError",
          "evalue": "invalid syntax (<string>, line 1)",
          "output_type": "error",
          "traceback": [
            "Traceback \u001b[1;36m(most recent call last)\u001b[0m:\n",
            "  File \u001b[0;32mc:\\Users\\Pedro Antônio Silva\\AppData\\Local\\Programs\\Python\\Python310\\lib\\site-packages\\IPython\\core\\interactiveshell.py:3398\u001b[0m in \u001b[0;35mrun_code\u001b[0m\n    exec(code_obj, self.user_global_ns, self.user_ns)\n",
            "  Input \u001b[0;32mIn [280]\u001b[0m in \u001b[0;35m<cell line: 5>\u001b[0m\n    arvore.accept(Eval())\n",
            "  Input \u001b[0;32mIn [253]\u001b[0m in \u001b[0;35maccept\u001b[0m\n    visitor.visit_prog(self)\n",
            "  Input \u001b[0;32mIn [264]\u001b[0m in \u001b[0;35mvisit_prog\u001b[0m\n    prog.stmts.accept(self)\n",
            "  Input \u001b[0;32mIn [253]\u001b[0m in \u001b[0;35maccept\u001b[0m\n    visitor.visit_statements(self)\n",
            "  Input \u001b[0;32mIn [264]\u001b[0m in \u001b[0;35mvisit_statements\u001b[0m\n    s.stmts.accept(self)\n",
            "  Input \u001b[0;32mIn [253]\u001b[0m in \u001b[0;35maccept\u001b[0m\n    visitor.visit_statements(self)\n",
            "  Input \u001b[0;32mIn [264]\u001b[0m in \u001b[0;35mvisit_statements\u001b[0m\n    s.stmt.accept(self)\n",
            "  Input \u001b[0;32mIn [253]\u001b[0m in \u001b[0;35maccept\u001b[0m\n    visitor.visit_ifelse(self)\n",
            "\u001b[1;36m  Input \u001b[1;32mIn [264]\u001b[1;36m in \u001b[1;35mvisit_ifelse\u001b[1;36m\u001b[0m\n\u001b[1;33m    if(eval(f\"{expr1} {d.comp} {expr2}\")):\u001b[0m\n",
            "\u001b[1;36m  File \u001b[1;32m<string>:1\u001b[1;36m\u001b[0m\n\u001b[1;33m    2.0 Token('COMP', '<') 10\u001b[0m\n\u001b[1;37m        ^\u001b[0m\n\u001b[1;31mSyntaxError\u001b[0m\u001b[1;31m:\u001b[0m invalid syntax\n"
          ]
        }
      ],
      "source": [
        "arvore=parser.parse(lexer.lex(hCode))\n",
        "arvore.accept(SymbolTable())\n",
        "arvore.accept(Decorator())\n",
        "arvore.accept(TypeVerifier())\n",
        "arvore.accept(Eval())"
      ]
    },
    {
      "cell_type": "code",
      "execution_count": 299,
      "metadata": {},
      "outputs": [
        {
          "name": "stdout",
          "output_type": "stream",
          "text": [
            "float x? float y? float z? return mul2(a) sizeof a*2? x = 4? if (x < 10 ) y = 1? else y = 2? z = mul2(y-x)?\n"
          ]
        }
      ],
      "source": [
        "print(hCode)"
      ]
    },
    {
      "cell_type": "code",
      "execution_count": null,
      "metadata": {},
      "outputs": [
        {
          "name": "stdout",
          "output_type": "stream",
          "text": [
            "{'x': 1, 'y': -1, 'z': -11}\n"
          ]
        }
      ],
      "source": [
        "print(VARIABLES)"
      ]
    }
  ],
  "metadata": {
    "colab": {
      "provenance": []
    },
    "kernelspec": {
      "display_name": "Python 3",
      "language": "python",
      "name": "python3"
    },
    "language_info": {
      "codemirror_mode": {
        "name": "ipython",
        "version": 3
      },
      "file_extension": ".py",
      "mimetype": "text/x-python",
      "name": "python",
      "nbconvert_exporter": "python",
      "pygments_lexer": "ipython3",
      "version": "3.11.1"
    }
  },
  "nbformat": 4,
  "nbformat_minor": 0
}
